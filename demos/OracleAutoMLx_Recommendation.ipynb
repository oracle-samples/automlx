{
 "cells": [
  {
   "cell_type": "markdown",
   "id": "ee43b0c4",
   "metadata": {},
   "source": [
    "\n",
    "<h1><font color=red>Building a Recommender using AutoMLx</font></h1>\n",
    "<p style=\"margin-left:5%; margin-right:5%;\">by the <font color=teal> Oracle AutoMLx Team </font></p>\n",
    "\n",
    "***"
   ]
  },
  {
   "cell_type": "markdown",
   "id": "cc2c58d4",
   "metadata": {},
   "source": [
    "Recommendation Demo Notebook.\n",
    "\n",
    "Copyright © 2024, Oracle and/or its affiliates.\n",
    "\n",
    "Licensed under the Universal Permissive License v 1.0 as shown at https://oss.oracle.com/licenses/upl/"
   ]
  },
  {
   "cell_type": "markdown",
   "id": "fb1a0ebb",
   "metadata": {},
   "source": [
    "# Overview of this Notebook\n",
    "\n",
    "In this notebook we will build a recommender using the Oracle AutoMLx tool for the Movielens 100k dataset to predict the next item that users will most likely watch, based on their ratings history.\n",
    "We explore the various options provided by the Oracle AutoMLx tool, allowing the user to control the AutoMLx training process. We finally evaluate the different models trained by AutoMLx. Depending on the machine running this notebook, it can take up to minutes.\n",
    "\n",
    "---\n",
    "## Prerequisites:\n",
    "\n",
    "   - Experience level: Novice (Python and Machine Learning)\n",
    "   - Professional experience: Some industry experience\n",
    "---\n",
    "\n",
    "## Business Use:\n",
    "\n",
    "Data analytics and modeling problems using Machine Learning (ML) are becoming popular and often rely on data science expertise to build accurate ML models. Such modeling tasks primarily involve the following steps:\n",
    "- Preprocess dataset (clean, impute, engineer features, normalize).\n",
    "- Pick an appropriate model for the given dataset and prediction task at hand.\n",
    "- Tune the chosen model’s hyperparameters for the given dataset.\n",
    "\n",
    "All of these steps are significantly time consuming and heavily rely on data scientist expertise. Unfortunately, to make this problem harder, the best feature subset, model, and hyperparameter choice widely varies with the dataset and the prediction task. Hence, there is no one-size-fits-all solution to achieve reasonably good model performance. Using a simple Python API, AutoML can quickly jump-start the datascience process with an accurately-tuned model and appropriate features for a given prediction task.\n",
    "\n",
    "## Table of Contents\n",
    "\n",
    "- <a href='#setup'> Setup</a>\n",
    "- <a href='#load-data'> Load the Movielens 100k dataset</a>\n",
    "  - <a href='#coltypes'> Define the column types</a>\n",
    "  - <a href='#dataset-split'>Splitting the dataset</a>\n",
    "- <a href='#automl'> AutoML</a>\n",
    "  - <a href='#provider'> Create an Instance of AutoMLx</a>\n",
    "  - <a href='#default'> Train a Model using AutoMLx</a>\n",
    "  - <a href='#recommending'> Generate recommendations </a>\n",
    "  - <a href='#analyze'> Analyze the AutoMLx optimization process </a>\n",
    "      - <a href='#algorithm-selection'> Algorithm Selection</a>\n",
    "      - <a href='#hyperparameter-tuning'> Hyperparameter Tuning</a>\n",
    "  - <a href='#modellist'> Advanced AutoMLx Configuration</a>\n",
    "  - <a href='#custom-validation'> Use a custom validation set</a>\n",
    "  - <a href='#evaluation'> Final evaluation of the best model</a>\n",
    "\n",
    "<a id='setup'></a>\n",
    "## Setup\n",
    "\n",
    "Basic setup for the Notebook."
   ]
  },
  {
   "cell_type": "code",
   "execution_count": 1,
   "id": "d43c82cd",
   "metadata": {
    "execution": {
     "iopub.execute_input": "2024-09-11T15:30:38.921034Z",
     "iopub.status.busy": "2024-09-11T15:30:38.920650Z",
     "iopub.status.idle": "2024-09-11T15:30:45.981276Z",
     "shell.execute_reply": "2024-09-11T15:30:45.980563Z"
    }
   },
   "outputs": [
    {
     "name": "stdout",
     "output_type": "stream",
     "text": [
      "[2024-09-11 08:30:41,179] [automlx.backend] Overwriting ray session directory to /tmp/kfognjfx/ray, which will be deleted at engine shutdown. If you wish to retain ray logs, provide _temp_dir in ray_setup dict of engine_opts when initializing the AutoMLx engine.\n"
     ]
    }
   ],
   "source": [
    "\n",
    "\n",
    "import datetime\n",
    "import logging\n",
    "import os\n",
    "import time\n",
    "import urllib\n",
    "\n",
    "import matplotlib.pyplot as plt\n",
    "import numpy as np\n",
    "import pandas as pd\n",
    "\n",
    "from automlx import AutoRecommender, init\n",
    "\n",
    "# Settings for plots\n",
    "plt.rcParams[\"figure.figsize\"] = [10, 7]\n",
    "plt.rcParams[\"font.size\"] = 15\n",
    "\n",
    "# Silence unnecessary warnings\n",
    "logging.getLogger(\"sanerec.autotuning.parameter\").setLevel(logging.ERROR)\n",
    "\n",
    "# Initialize the parallelization engine of AutoMLx\n",
    "init(engine='ray', engine_opts={\"ray_setup\": {\"log_to_driver\": False}})"
   ]
  },
  {
   "cell_type": "markdown",
   "id": "83585e9c",
   "metadata": {},
   "source": [
    "<a id='load-data'></a>\n",
    "## Load Movielens 100k data\n",
    "Movielens 100k dataset is one of the most common public datasets for movie recommendation. It contains 100k ratings from about 1k users on 1.6k movies, some information about user demographic, and additional movie characteristics. For more information about this dataset, you can visit the [Movielens website](https://grouplens.org/datasets/movielens/100k/).\n",
    "\n",
    "In this demo, we use the ratings to train a movie recommendation model, exploiting AutoMLx to find the best recommendation model and hyperparameters to use in terms of recommendation accuracy.\n",
    "Therefore, we start retrieving and loading the ratings data of the Movielens 100k dataset.\n",
    "To make this notebook lighter and quicker, we also subsample the ratings in the dataset, keeping only 50%."
   ]
  },
  {
   "cell_type": "code",
   "execution_count": 2,
   "id": "57ca179a",
   "metadata": {
    "execution": {
     "iopub.execute_input": "2024-09-11T15:30:45.984774Z",
     "iopub.status.busy": "2024-09-11T15:30:45.984478Z",
     "iopub.status.idle": "2024-09-11T15:30:46.466039Z",
     "shell.execute_reply": "2024-09-11T15:30:46.465321Z"
    },
    "lines_to_next_cell": 2
   },
   "outputs": [],
   "source": [
    "\n",
    "\n",
    "get_ipython().system(' wget https://files.grouplens.org/datasets/movielens/ml-100k/u.data --no-check-certificate -q -O ./ml100k_interactions.tsv')"
   ]
  },
  {
   "cell_type": "code",
   "execution_count": 3,
   "id": "3f828d96",
   "metadata": {
    "execution": {
     "iopub.execute_input": "2024-09-11T15:30:46.468962Z",
     "iopub.status.busy": "2024-09-11T15:30:46.468493Z",
     "iopub.status.idle": "2024-09-11T15:30:46.515225Z",
     "shell.execute_reply": "2024-09-11T15:30:46.514652Z"
    }
   },
   "outputs": [
    {
     "data": {
      "text/html": [
       "<div>\n",
       "<style scoped>\n",
       "    .dataframe tbody tr th:only-of-type {\n",
       "        vertical-align: middle;\n",
       "    }\n",
       "\n",
       "    .dataframe tbody tr th {\n",
       "        vertical-align: top;\n",
       "    }\n",
       "\n",
       "    .dataframe thead th {\n",
       "        text-align: right;\n",
       "    }\n",
       "</style>\n",
       "<table border=\"1\" class=\"dataframe\">\n",
       "  <thead>\n",
       "    <tr style=\"text-align: right;\">\n",
       "      <th></th>\n",
       "      <th>user_id</th>\n",
       "      <th>movie_id</th>\n",
       "      <th>rating</th>\n",
       "      <th>timestamp</th>\n",
       "    </tr>\n",
       "  </thead>\n",
       "  <tbody>\n",
       "    <tr>\n",
       "      <th>43660</th>\n",
       "      <td>508</td>\n",
       "      <td>185</td>\n",
       "      <td>5</td>\n",
       "      <td>883777430</td>\n",
       "    </tr>\n",
       "    <tr>\n",
       "      <th>87278</th>\n",
       "      <td>518</td>\n",
       "      <td>742</td>\n",
       "      <td>5</td>\n",
       "      <td>876823804</td>\n",
       "    </tr>\n",
       "    <tr>\n",
       "      <th>14317</th>\n",
       "      <td>178</td>\n",
       "      <td>28</td>\n",
       "      <td>5</td>\n",
       "      <td>882826806</td>\n",
       "    </tr>\n",
       "    <tr>\n",
       "      <th>81932</th>\n",
       "      <td>899</td>\n",
       "      <td>291</td>\n",
       "      <td>4</td>\n",
       "      <td>884122279</td>\n",
       "    </tr>\n",
       "    <tr>\n",
       "      <th>95321</th>\n",
       "      <td>115</td>\n",
       "      <td>117</td>\n",
       "      <td>4</td>\n",
       "      <td>881171009</td>\n",
       "    </tr>\n",
       "  </tbody>\n",
       "</table>\n",
       "</div>"
      ],
      "text/plain": [
       "       user_id  movie_id  rating  timestamp\n",
       "43660      508       185       5  883777430\n",
       "87278      518       742       5  876823804\n",
       "14317      178        28       5  882826806\n",
       "81932      899       291       4  884122279\n",
       "95321      115       117       4  881171009"
      ]
     },
     "execution_count": 3,
     "metadata": {},
     "output_type": "execute_result"
    }
   ],
   "source": [
    "\n",
    "\n",
    "dataset = pd.read_csv(\n",
    "    \"./ml100k_interactions.tsv\",\n",
    "    sep=\"\\t\",\n",
    "    names=[\"user_id\", \"movie_id\", \"rating\", \"timestamp\"],\n",
    ").sample(frac=0.5, random_state=1)\n",
    "\n",
    "dataset.head(5)"
   ]
  },
  {
   "cell_type": "markdown",
   "id": "1320aeb4",
   "metadata": {},
   "source": [
    "In order to be used for the recommendation task, the data must have a timestamp column that is used to infer the temporal order of the samples. We also require to set the timestamp column as index of the dataframes used in our AutoML pipelines.\n",
    "\n",
    "Movielens contains a `timestamp` column that contains the time when a rating was given, so we set it as index of our dataframe."
   ]
  },
  {
   "cell_type": "code",
   "execution_count": 4,
   "id": "caa1acb8",
   "metadata": {
    "execution": {
     "iopub.execute_input": "2024-09-11T15:30:46.517438Z",
     "iopub.status.busy": "2024-09-11T15:30:46.517184Z",
     "iopub.status.idle": "2024-09-11T15:30:46.523226Z",
     "shell.execute_reply": "2024-09-11T15:30:46.522745Z"
    }
   },
   "outputs": [
    {
     "data": {
      "text/html": [
       "<div>\n",
       "<style scoped>\n",
       "    .dataframe tbody tr th:only-of-type {\n",
       "        vertical-align: middle;\n",
       "    }\n",
       "\n",
       "    .dataframe tbody tr th {\n",
       "        vertical-align: top;\n",
       "    }\n",
       "\n",
       "    .dataframe thead th {\n",
       "        text-align: right;\n",
       "    }\n",
       "</style>\n",
       "<table border=\"1\" class=\"dataframe\">\n",
       "  <thead>\n",
       "    <tr style=\"text-align: right;\">\n",
       "      <th></th>\n",
       "      <th>user_id</th>\n",
       "      <th>movie_id</th>\n",
       "      <th>rating</th>\n",
       "    </tr>\n",
       "    <tr>\n",
       "      <th>timestamp</th>\n",
       "      <th></th>\n",
       "      <th></th>\n",
       "      <th></th>\n",
       "    </tr>\n",
       "  </thead>\n",
       "  <tbody>\n",
       "    <tr>\n",
       "      <th>883777430</th>\n",
       "      <td>508</td>\n",
       "      <td>185</td>\n",
       "      <td>5</td>\n",
       "    </tr>\n",
       "    <tr>\n",
       "      <th>876823804</th>\n",
       "      <td>518</td>\n",
       "      <td>742</td>\n",
       "      <td>5</td>\n",
       "    </tr>\n",
       "    <tr>\n",
       "      <th>882826806</th>\n",
       "      <td>178</td>\n",
       "      <td>28</td>\n",
       "      <td>5</td>\n",
       "    </tr>\n",
       "    <tr>\n",
       "      <th>884122279</th>\n",
       "      <td>899</td>\n",
       "      <td>291</td>\n",
       "      <td>4</td>\n",
       "    </tr>\n",
       "    <tr>\n",
       "      <th>881171009</th>\n",
       "      <td>115</td>\n",
       "      <td>117</td>\n",
       "      <td>4</td>\n",
       "    </tr>\n",
       "  </tbody>\n",
       "</table>\n",
       "</div>"
      ],
      "text/plain": [
       "           user_id  movie_id  rating\n",
       "timestamp                           \n",
       "883777430      508       185       5\n",
       "876823804      518       742       5\n",
       "882826806      178        28       5\n",
       "884122279      899       291       4\n",
       "881171009      115       117       4"
      ]
     },
     "execution_count": 4,
     "metadata": {},
     "output_type": "execute_result"
    }
   ],
   "source": [
    "\n",
    "\n",
    "dataset = dataset.set_index(\"timestamp\")\n",
    "dataset.head(5)"
   ]
  },
  {
   "cell_type": "markdown",
   "id": "6040cf36",
   "metadata": {},
   "source": [
    "<a id='coltypes'></a>\n",
    "### Define types of columns in the dataframe\n",
    "\n",
    "The recommendation task requires to define the two main entities involved in the recommendation:\n",
    "- the `recommendation`, which represents the entity type that is going to be recommended;\n",
    "- the `recommendation_subject`, which represents the entity type that receives the recommendation.\n",
    "\n",
    "For this reason, AutoML requires to indicate what are the columns in the dataset that refer to these two concepts, and, in particular, the two columns that contain their unique identifiers.\n",
    "\n",
    "In our demo we want to recommend movies (`recommendation`), identified by the `movie_id` column, to users (`recommendation_subject`), identified by the `user_id` column. We declare this binding in a python dictionary that we will reuse throughout the demo."
   ]
  },
  {
   "cell_type": "code",
   "execution_count": 5,
   "id": "3ba5dde3",
   "metadata": {
    "execution": {
     "iopub.execute_input": "2024-09-11T15:30:46.525430Z",
     "iopub.status.busy": "2024-09-11T15:30:46.525026Z",
     "iopub.status.idle": "2024-09-11T15:30:46.527707Z",
     "shell.execute_reply": "2024-09-11T15:30:46.527228Z"
    }
   },
   "outputs": [],
   "source": [
    "\n",
    "\n",
    "col_types = {\"movie_id\": \"recommendation\", \"user_id\": \"recommendation_subject\"}"
   ]
  },
  {
   "cell_type": "markdown",
   "id": "27cf78cd",
   "metadata": {},
   "source": [
    "<a id='dataset-split'></a>\n",
    "## Splitting the dataset\n",
    "\n",
    "We split the dataset into training and test datasets using a leave-last-out technique.\n",
    "The training set will be used to create a Machine Learning model using Oracle AutoMLx, and the test set will be used to evaluate the model's performance on unseen data.\n",
    "\n",
    "The leave-last-out splitting technique consists in keeping in the test set only the last data sample, as determined by its timestamp, for each `recommendation_subject` (user in this case). All the other samples form the training set. This corresponds to the common next item recommendation use case, where given the history of all the past data concerning a `recommendation_subject` in the training set, we want to predict what should be recommended next to the same subject, and check if it corresponds to the actual sample in the test set."
   ]
  },
  {
   "cell_type": "code",
   "execution_count": 6,
   "id": "fb1a978b",
   "metadata": {
    "execution": {
     "iopub.execute_input": "2024-09-11T15:30:46.529781Z",
     "iopub.status.busy": "2024-09-11T15:30:46.529395Z",
     "iopub.status.idle": "2024-09-11T15:30:50.464367Z",
     "shell.execute_reply": "2024-09-11T15:30:50.463755Z"
    }
   },
   "outputs": [],
   "source": [
    "\n",
    "\n",
    "training_data, test_data = AutoRecommender.train_test_split(data=dataset, col_types=col_types)"
   ]
  },
  {
   "cell_type": "markdown",
   "id": "8a0679d9",
   "metadata": {},
   "source": [
    "<a id='automl'></a>\n",
    "# AutoML\n",
    "\n",
    "<a id='provider'></a>\n",
    "## Create an instance of Oracle AutoMLx\n",
    "\n",
    "The Oracle AutoMLx solution provides a pipeline that automatically finds a tuned model given a prediction task and a training dataset. In particular, it allows finding a tuned model for any supervised prediction task, for example, classification or regression where the target can be binary, categorical or real-valued.\n",
    "\n",
    "In this demo we want a model that performs a recommendation task, so we create a pipeline of type `AutoRecommender`, and we configure it with default parameters. You can find the complete list of all the available parameters and their meaning in our documentation."
   ]
  },
  {
   "cell_type": "code",
   "execution_count": 7,
   "id": "9926b022",
   "metadata": {
    "execution": {
     "iopub.execute_input": "2024-09-11T15:30:50.467590Z",
     "iopub.status.busy": "2024-09-11T15:30:50.466824Z",
     "iopub.status.idle": "2024-09-11T15:30:50.470482Z",
     "shell.execute_reply": "2024-09-11T15:30:50.469973Z"
    }
   },
   "outputs": [],
   "source": [
    "\n",
    "\n",
    "automl_pipeline = AutoRecommender().configure()"
   ]
  },
  {
   "cell_type": "markdown",
   "id": "2ab73759",
   "metadata": {},
   "source": [
    "<a id='default'></a>\n",
    "## Train a model using AutoMLx\n",
    "\n",
    "The training data is passed to the `fit()` function which executes the model selection and hyperparameter tuning steps."
   ]
  },
  {
   "cell_type": "code",
   "execution_count": 8,
   "id": "d4bbb880",
   "metadata": {
    "execution": {
     "iopub.execute_input": "2024-09-11T15:30:50.472684Z",
     "iopub.status.busy": "2024-09-11T15:30:50.472294Z",
     "iopub.status.idle": "2024-09-11T15:31:41.126673Z",
     "shell.execute_reply": "2024-09-11T15:31:41.125958Z"
    }
   },
   "outputs": [
    {
     "name": "stdout",
     "output_type": "stream",
     "text": [
      "[2024-09-11 08:30:50,830] [automlx.interface] Dataset shape: (49055,3)\n"
     ]
    },
    {
     "name": "stdout",
     "output_type": "stream",
     "text": [
      "[2024-09-11 08:30:50,900] [automlx.process] Running Model Generation\n"
     ]
    },
    {
     "name": "stdout",
     "output_type": "stream",
     "text": [
      "[2024-09-11 08:30:50,943] [automlx.process] Model Generation completed.\n"
     ]
    },
    {
     "name": "stdout",
     "output_type": "stream",
     "text": [
      "[2024-09-11 08:30:50,987] [automlx.model_selection] Running Model Selection\n"
     ]
    },
    {
     "name": "stdout",
     "output_type": "stream",
     "text": [
      "[2024-09-11 08:31:24,607] [automlx.model_selection] Model Selection completed - Took 33.620 sec - Selected models: [['ItemKNNRecommender']]\n"
     ]
    },
    {
     "name": "stdout",
     "output_type": "stream",
     "text": [
      "[2024-09-11 08:31:24,649] [automlx.trials] Running Model Tuning for ['ItemKNNRecommender']\n"
     ]
    },
    {
     "name": "stdout",
     "output_type": "stream",
     "text": [
      "[2024-09-11 08:31:39,575] [automlx.trials] Best parameters for ItemKNNRecommender: {'n_recommendations': 10, 'num_of_neighbors': 506, 'bias': 0.0001, 'hist_len': 10, 'reciprocal_ranking': False, 'normalize_scores': False, 'cache_users_states': True}\n"
     ]
    },
    {
     "name": "stdout",
     "output_type": "stream",
     "text": [
      "[2024-09-11 08:31:39,576] [automlx.trials] Model Tuning completed. Took: 14.926 secs\n"
     ]
    },
    {
     "name": "stdout",
     "output_type": "stream",
     "text": [
      "[2024-09-11 08:31:40,082] [automlx.interface] Re-fitting pipeline\n"
     ]
    },
    {
     "name": "stdout",
     "output_type": "stream",
     "text": [
      "[2024-09-11 08:31:40,092] [automlx.final_fit] Skipping updating parameter seed, already fixed by FinalFit_e945b10c-f\n"
     ]
    },
    {
     "name": "stdout",
     "output_type": "stream",
     "text": [
      "[2024-09-11 08:31:41,009] [automlx.interface] AutoMLx completed.\n"
     ]
    }
   ],
   "source": [
    "\n",
    "\n",
    "automl_pipeline = automl_pipeline.fit(data=training_data, col_types=col_types)"
   ]
  },
  {
   "cell_type": "markdown",
   "id": "fece1a03",
   "metadata": {},
   "source": [
    "<a id='recommending'></a>\n",
    "## Generate recommendations\n",
    "\n",
    "Once the AutoML pipeline is completed, we predict 5 recommendations for a random user in the dataset."
   ]
  },
  {
   "cell_type": "code",
   "execution_count": 9,
   "id": "9af51101",
   "metadata": {
    "execution": {
     "iopub.execute_input": "2024-09-11T15:31:41.129613Z",
     "iopub.status.busy": "2024-09-11T15:31:41.129195Z",
     "iopub.status.idle": "2024-09-11T15:31:41.191394Z",
     "shell.execute_reply": "2024-09-11T15:31:41.190809Z"
    }
   },
   "outputs": [
    {
     "data": {
      "text/html": [
       "<div>\n",
       "<style scoped>\n",
       "    .dataframe tbody tr th:only-of-type {\n",
       "        vertical-align: middle;\n",
       "    }\n",
       "\n",
       "    .dataframe tbody tr th {\n",
       "        vertical-align: top;\n",
       "    }\n",
       "\n",
       "    .dataframe thead th {\n",
       "        text-align: right;\n",
       "    }\n",
       "</style>\n",
       "<table border=\"1\" class=\"dataframe\">\n",
       "  <thead>\n",
       "    <tr style=\"text-align: right;\">\n",
       "      <th></th>\n",
       "      <th>user_id</th>\n",
       "      <th>movie_id</th>\n",
       "      <th>score</th>\n",
       "    </tr>\n",
       "  </thead>\n",
       "  <tbody>\n",
       "    <tr>\n",
       "      <th>0</th>\n",
       "      <td>834</td>\n",
       "      <td>121</td>\n",
       "      <td>27.871420</td>\n",
       "    </tr>\n",
       "    <tr>\n",
       "      <th>1</th>\n",
       "      <td>834</td>\n",
       "      <td>7</td>\n",
       "      <td>27.642850</td>\n",
       "    </tr>\n",
       "    <tr>\n",
       "      <th>2</th>\n",
       "      <td>834</td>\n",
       "      <td>50</td>\n",
       "      <td>27.107165</td>\n",
       "    </tr>\n",
       "    <tr>\n",
       "      <th>3</th>\n",
       "      <td>834</td>\n",
       "      <td>405</td>\n",
       "      <td>26.306330</td>\n",
       "    </tr>\n",
       "    <tr>\n",
       "      <th>4</th>\n",
       "      <td>834</td>\n",
       "      <td>181</td>\n",
       "      <td>24.635577</td>\n",
       "    </tr>\n",
       "  </tbody>\n",
       "</table>\n",
       "</div>"
      ],
      "text/plain": [
       "   user_id  movie_id      score\n",
       "0      834       121  27.871420\n",
       "1      834         7  27.642850\n",
       "2      834        50  27.107165\n",
       "3      834       405  26.306330\n",
       "4      834       181  24.635577"
      ]
     },
     "execution_count": 9,
     "metadata": {},
     "output_type": "execute_result"
    }
   ],
   "source": [
    "\n",
    "\n",
    "recommendation_subjects = test_data.sample(1)[['user_id']]\n",
    "automl_pipeline.predict(subjects=recommendation_subjects, n_recommendations=5)"
   ]
  },
  {
   "cell_type": "markdown",
   "id": "05487f45",
   "metadata": {},
   "source": [
    "<a id='analyze'></a>\n",
    "## Analyze the AutoMLx optimization process\n",
    "\n",
    "During the Oracle AutoMLx process for recommendation, a summary of the optimization process is logged, containing:\n",
    "- Information about the training data.\n",
    "- Information about the AutoMLx Pipeline, such as:\n",
    "    - Selected algorithm that was the best choice for this data;\n",
    "    - Selected hyperparameters for the selected algorithm.\n",
    "\n",
    "AutoMLx provides a `print_summary` API to output all the different trials performed."
   ]
  },
  {
   "cell_type": "code",
   "execution_count": 10,
   "id": "bb434bd0",
   "metadata": {
    "execution": {
     "iopub.execute_input": "2024-09-11T15:31:41.193728Z",
     "iopub.status.busy": "2024-09-11T15:31:41.193533Z",
     "iopub.status.idle": "2024-09-11T15:31:41.208294Z",
     "shell.execute_reply": "2024-09-11T15:31:41.207696Z"
    }
   },
   "outputs": [
    {
     "data": {
      "text/html": [
       "<br><div style='text-align: center; font-weight: bold; font-size: 16px;'>General Summary</div>"
      ],
      "text/plain": [
       "<IPython.core.display.HTML object>"
      ]
     },
     "metadata": {},
     "output_type": "display_data"
    },
    {
     "data": {
      "text/html": [
       "<table border=\"1\" class=\"dataframe\">\n",
       "  <thead>\n",
       "    <tr style=\"text-align: right;\">\n",
       "      <th></th>\n",
       "    </tr>\n",
       "  </thead>\n",
       "  <tbody>\n",
       "    <tr>\n",
       "      <td>(48114, 4)</td>\n",
       "    </tr>\n",
       "    <tr>\n",
       "      <td>(941, 4)</td>\n",
       "    </tr>\n",
       "    <tr>\n",
       "      <td>ManualSplit(Shuffle=False, Seed=7)</td>\n",
       "    </tr>\n",
       "    <tr>\n",
       "      <td>SanerecMetric</td>\n",
       "    </tr>\n",
       "    <tr>\n",
       "      <td>ItemKNNRecommender</td>\n",
       "    </tr>\n",
       "    <tr>\n",
       "      <td>{'n_recommendations': 10, 'num_of_neighbors': 506, 'bias': 0.0001, 'hist_len': 10, 'reciprocal_ranking': False, 'normalize_scores': False, 'cache_users_states': True}</td>\n",
       "    </tr>\n",
       "    <tr>\n",
       "      <td>24.3.0</td>\n",
       "    </tr>\n",
       "    <tr>\n",
       "      <td>3.8.19 (default, Mar 20 2024, 19:58:24) \\n[GCC 11.2.0]</td>\n",
       "    </tr>\n",
       "  </tbody>\n",
       "</table>"
      ],
      "text/plain": [
       "<IPython.core.display.HTML object>"
      ]
     },
     "metadata": {},
     "output_type": "display_data"
    },
    {
     "data": {
      "text/html": [
       "<br><div style='text-align: center; font-weight: bold; font-size: 16px;'>Trials Summary</div>"
      ],
      "text/plain": [
       "<IPython.core.display.HTML object>"
      ]
     },
     "metadata": {},
     "output_type": "display_data"
    },
    {
     "data": {
      "text/html": [
       "<table border=\"1\" class=\"dataframe\">\n",
       "  <thead>\n",
       "    <tr style=\"text-align: right;\">\n",
       "      <th>Step</th>\n",
       "      <th># Samples</th>\n",
       "      <th># Features</th>\n",
       "      <th>Algorithm</th>\n",
       "      <th>Hyperparameters</th>\n",
       "      <th>Score (SanerecMetric)</th>\n",
       "      <th>Runtime (Seconds)</th>\n",
       "      <th>Memory Usage (GB)</th>\n",
       "      <th>Finished</th>\n",
       "    </tr>\n",
       "  </thead>\n",
       "  <tbody>\n",
       "    <tr>\n",
       "      <td>Model Selection</td>\n",
       "      <td>48114</td>\n",
       "      <td>2</td>\n",
       "      <td>ItemKNNRecommender</td>\n",
       "      <td>{'n_recommendations': 10, 'num_of_neighbors': 100, 'bias': 25, 'hist_len': 20, 'reciprocal_ranking': False, 'normalize_scores': False, 'cache_users_states': True}</td>\n",
       "      <td>0.0882</td>\n",
       "      <td>1.1723</td>\n",
       "      <td>0.7172</td>\n",
       "      <td>Wed Sep 11 08:31:01 2024</td>\n",
       "    </tr>\n",
       "    <tr>\n",
       "      <td>Model Selection</td>\n",
       "      <td>48114</td>\n",
       "      <td>2</td>\n",
       "      <td>AlsRecommender</td>\n",
       "      <td>{'n_recommendations': 10, 'iterations': 10, 'factors': 16, 'regularization': 0.01, 'cache_users_states': True}</td>\n",
       "      <td>0.0723</td>\n",
       "      <td>3.8354</td>\n",
       "      <td>0.7012</td>\n",
       "      <td>Wed Sep 11 08:31:00 2024</td>\n",
       "    </tr>\n",
       "    <tr>\n",
       "      <td>Model Selection</td>\n",
       "      <td>48114</td>\n",
       "      <td>2</td>\n",
       "      <td>TRexxRecommender</td>\n",
       "      <td>{'n_recommendations': 10, 'embedding_dim': 32, 'sequence_length': 5, 'num_sampled': 100, 'dropout_rate': 0.2, 'num_blocks': 2, 'num_head': 4, 'l2_reg_embedding': 1e-06, 'dnn_activation': 'tanh', 'optimizer_name': 'lazyadam', 'optimizer_learning_rate': 0.01, 'future_blinding': False, 'embeddings_on_cpu': False, 'cache_users_states': False, 'negative_sampling_method': CandidateSamplingMethod.UNIFORM_CANDIDATE_SAMPLING, 'epochs': 10, 'batch_size': 512, 'verbose': 1, 'augment_data': True, 'early_stopping_patience': -1}</td>\n",
       "      <td>0.0542</td>\n",
       "      <td>22.7016</td>\n",
       "      <td>1.1490</td>\n",
       "      <td>Wed Sep 11 08:31:24 2024</td>\n",
       "    </tr>\n",
       "    <tr>\n",
       "      <td>Model Selection</td>\n",
       "      <td>48114</td>\n",
       "      <td>2</td>\n",
       "      <td>BprRecommender</td>\n",
       "      <td>{'n_recommendations': 10, 'iterations': 10, 'factors': 16, 'regularization': 0.01, 'cache_users_states': True}</td>\n",
       "      <td>0.051</td>\n",
       "      <td>0.3001</td>\n",
       "      <td>0.7042</td>\n",
       "      <td>Wed Sep 11 08:31:00 2024</td>\n",
       "    </tr>\n",
       "    <tr>\n",
       "      <td>Model Tuning</td>\n",
       "      <td>48114</td>\n",
       "      <td>2</td>\n",
       "      <td>ItemKNNRecommender</td>\n",
       "      <td>{'n_recommendations': 10, 'num_of_neighbors': 505, 'bias': 0.0001, 'hist_len': 10, 'reciprocal_ranking': False, 'normalize_scores': False, 'cache_users_states': True}</td>\n",
       "      <td>0.0999</td>\n",
       "      <td>1.4283</td>\n",
       "      <td>0.6178</td>\n",
       "      <td>Wed Sep 11 08:31:36 2024</td>\n",
       "    </tr>\n",
       "    <tr>\n",
       "      <td>Model Tuning</td>\n",
       "      <td>48114</td>\n",
       "      <td>2</td>\n",
       "      <td>ItemKNNRecommender</td>\n",
       "      <td>{'n_recommendations': 10, 'num_of_neighbors': 506, 'bias': 0.0001, 'hist_len': 10, 'reciprocal_ranking': False, 'normalize_scores': False, 'cache_users_states': True}</td>\n",
       "      <td>0.0999</td>\n",
       "      <td>1.1595</td>\n",
       "      <td>0.6175</td>\n",
       "      <td>Wed Sep 11 08:31:38 2024</td>\n",
       "    </tr>\n",
       "    <tr>\n",
       "      <td>Model Tuning</td>\n",
       "      <td>48114</td>\n",
       "      <td>2</td>\n",
       "      <td>ItemKNNRecommender</td>\n",
       "      <td>{'n_recommendations': 10, 'num_of_neighbors': 506, 'bias': 0.0001, 'hist_len': 10, 'reciprocal_ranking': False, 'normalize_scores': False, 'cache_users_states': True}</td>\n",
       "      <td>0.0999</td>\n",
       "      <td>1.6110</td>\n",
       "      <td>0.6170</td>\n",
       "      <td>Wed Sep 11 08:31:36 2024</td>\n",
       "    </tr>\n",
       "    <tr>\n",
       "      <td>Model Tuning</td>\n",
       "      <td>48114</td>\n",
       "      <td>2</td>\n",
       "      <td>ItemKNNRecommender</td>\n",
       "      <td>{'n_recommendations': 10, 'num_of_neighbors': 10, 'bias': 28.25660795027468, 'hist_len': 10, 'reciprocal_ranking': False, 'normalize_scores': False, 'cache_users_states': True}</td>\n",
       "      <td>0.0956</td>\n",
       "      <td>1.5365</td>\n",
       "      <td>0.6080</td>\n",
       "      <td>Wed Sep 11 08:31:34 2024</td>\n",
       "    </tr>\n",
       "    <tr>\n",
       "      <td>Model Tuning</td>\n",
       "      <td>48114</td>\n",
       "      <td>2</td>\n",
       "      <td>ItemKNNRecommender</td>\n",
       "      <td>{'n_recommendations': 10, 'num_of_neighbors': 10, 'bias': 28.26160794927468, 'hist_len': 10, 'reciprocal_ranking': False, 'normalize_scores': False, 'cache_users_states': True}</td>\n",
       "      <td>0.0956</td>\n",
       "      <td>1.2769</td>\n",
       "      <td>0.6095</td>\n",
       "      <td>Wed Sep 11 08:31:36 2024</td>\n",
       "    </tr>\n",
       "    <tr>\n",
       "      <td>Model Tuning</td>\n",
       "      <td>48114</td>\n",
       "      <td>2</td>\n",
       "      <td>ItemKNNRecommender</td>\n",
       "      <td>{'n_recommendations': 10, 'num_of_neighbors': 10, 'bias': 28.26160794927468, 'hist_len': 10, 'reciprocal_ranking': False, 'normalize_scores': False, 'cache_users_states': True}</td>\n",
       "      <td>0.0956</td>\n",
       "      <td>1.5252</td>\n",
       "      <td>0.6092</td>\n",
       "      <td>Wed Sep 11 08:31:34 2024</td>\n",
       "    </tr>\n",
       "    <tr>\n",
       "      <td>...</td>\n",
       "      <td>...</td>\n",
       "      <td>...</td>\n",
       "      <td>...</td>\n",
       "      <td>...</td>\n",
       "      <td>...</td>\n",
       "      <td>...</td>\n",
       "      <td>...</td>\n",
       "      <td>...</td>\n",
       "    </tr>\n",
       "    <tr>\n",
       "      <td>Model Tuning</td>\n",
       "      <td>48114</td>\n",
       "      <td>2</td>\n",
       "      <td>ItemKNNRecommender</td>\n",
       "      <td>{'n_recommendations': 10, 'num_of_neighbors': 10, 'bias': 0.0001, 'hist_len': 20, 'reciprocal_ranking': False, 'normalize_scores': False, 'cache_users_states': True}</td>\n",
       "      <td>0.084</td>\n",
       "      <td>1.5141</td>\n",
       "      <td>0.6093</td>\n",
       "      <td>Wed Sep 11 08:31:34 2024</td>\n",
       "    </tr>\n",
       "    <tr>\n",
       "      <td>Model Tuning</td>\n",
       "      <td>48114</td>\n",
       "      <td>2</td>\n",
       "      <td>ItemKNNRecommender</td>\n",
       "      <td>{'n_recommendations': 10, 'num_of_neighbors': 10, 'bias': 0.0001, 'hist_len': 21, 'reciprocal_ranking': False, 'normalize_scores': False, 'cache_users_states': True}</td>\n",
       "      <td>0.084</td>\n",
       "      <td>1.5630</td>\n",
       "      <td>0.6066</td>\n",
       "      <td>Wed Sep 11 08:31:34 2024</td>\n",
       "    </tr>\n",
       "    <tr>\n",
       "      <td>Model Tuning</td>\n",
       "      <td>48114</td>\n",
       "      <td>2</td>\n",
       "      <td>ItemKNNRecommender</td>\n",
       "      <td>{'n_recommendations': 10, 'num_of_neighbors': 505, 'bias': 25, 'hist_len': 20, 'reciprocal_ranking': False, 'normalize_scores': False, 'cache_users_states': True}</td>\n",
       "      <td>0.0829</td>\n",
       "      <td>1.4142</td>\n",
       "      <td>1.1422</td>\n",
       "      <td>Wed Sep 11 08:31:30 2024</td>\n",
       "    </tr>\n",
       "    <tr>\n",
       "      <td>Model Tuning</td>\n",
       "      <td>48114</td>\n",
       "      <td>2</td>\n",
       "      <td>ItemKNNRecommender</td>\n",
       "      <td>{'n_recommendations': 10, 'num_of_neighbors': 506, 'bias': 25, 'hist_len': 20, 'reciprocal_ranking': False, 'normalize_scores': False, 'cache_users_states': True}</td>\n",
       "      <td>0.0829</td>\n",
       "      <td>1.4687</td>\n",
       "      <td>1.1422</td>\n",
       "      <td>Wed Sep 11 08:31:31 2024</td>\n",
       "    </tr>\n",
       "    <tr>\n",
       "      <td>Model Tuning</td>\n",
       "      <td>48114</td>\n",
       "      <td>2</td>\n",
       "      <td>ItemKNNRecommender</td>\n",
       "      <td>{'n_recommendations': 10, 'num_of_neighbors': 752, 'bias': 25, 'hist_len': 20, 'reciprocal_ranking': False, 'normalize_scores': False, 'cache_users_states': True}</td>\n",
       "      <td>0.0818</td>\n",
       "      <td>1.8498</td>\n",
       "      <td>1.1450</td>\n",
       "      <td>Wed Sep 11 08:31:33 2024</td>\n",
       "    </tr>\n",
       "    <tr>\n",
       "      <td>Model Tuning</td>\n",
       "      <td>48114</td>\n",
       "      <td>2</td>\n",
       "      <td>ItemKNNRecommender</td>\n",
       "      <td>{'n_recommendations': 10, 'num_of_neighbors': 753, 'bias': 25, 'hist_len': 20, 'reciprocal_ranking': False, 'normalize_scores': False, 'cache_users_states': True}</td>\n",
       "      <td>0.0818</td>\n",
       "      <td>1.5882</td>\n",
       "      <td>0.6187</td>\n",
       "      <td>Wed Sep 11 08:31:34 2024</td>\n",
       "    </tr>\n",
       "    <tr>\n",
       "      <td>Model Tuning</td>\n",
       "      <td>48114</td>\n",
       "      <td>2</td>\n",
       "      <td>ItemKNNRecommender</td>\n",
       "      <td>{'n_recommendations': 10, 'num_of_neighbors': 10, 'bias': 0.0001, 'hist_len': 132, 'reciprocal_ranking': False, 'normalize_scores': False, 'cache_users_states': True}</td>\n",
       "      <td>0.0797</td>\n",
       "      <td>1.5755</td>\n",
       "      <td>0.6110</td>\n",
       "      <td>Wed Sep 11 08:31:34 2024</td>\n",
       "    </tr>\n",
       "    <tr>\n",
       "      <td>Model Tuning</td>\n",
       "      <td>48114</td>\n",
       "      <td>2</td>\n",
       "      <td>ItemKNNRecommender</td>\n",
       "      <td>{'n_recommendations': 10, 'num_of_neighbors': 10, 'bias': 0.0001, 'hist_len': 133, 'reciprocal_ranking': False, 'normalize_scores': False, 'cache_users_states': True}</td>\n",
       "      <td>0.0797</td>\n",
       "      <td>1.5003</td>\n",
       "      <td>0.6096</td>\n",
       "      <td>Wed Sep 11 08:31:34 2024</td>\n",
       "    </tr>\n",
       "    <tr>\n",
       "      <td>Model Tuning</td>\n",
       "      <td>48114</td>\n",
       "      <td>2</td>\n",
       "      <td>ItemKNNRecommender</td>\n",
       "      <td>{'n_recommendations': 10, 'num_of_neighbors': 10, 'bias': 0.0001, 'hist_len': 255, 'reciprocal_ranking': False, 'normalize_scores': False, 'cache_users_states': True}</td>\n",
       "      <td>0.0797</td>\n",
       "      <td>1.6541</td>\n",
       "      <td>1.1450</td>\n",
       "      <td>Wed Sep 11 08:31:35 2024</td>\n",
       "    </tr>\n",
       "    <tr>\n",
       "      <td>Model Tuning</td>\n",
       "      <td>48114</td>\n",
       "      <td>2</td>\n",
       "      <td>ItemKNNRecommender</td>\n",
       "      <td>{'n_recommendations': 10, 'num_of_neighbors': 10, 'bias': 0.0001, 'hist_len': 256, 'reciprocal_ranking': False, 'normalize_scores': False, 'cache_users_states': True}</td>\n",
       "      <td>0.0797</td>\n",
       "      <td>1.3009</td>\n",
       "      <td>0.6101</td>\n",
       "      <td>Wed Sep 11 08:31:35 2024</td>\n",
       "    </tr>\n",
       "  </tbody>\n",
       "</table>"
      ],
      "text/plain": [
       "<IPython.core.display.HTML object>"
      ]
     },
     "metadata": {},
     "output_type": "display_data"
    }
   ],
   "source": [
    "\n",
    "\n",
    "automl_pipeline.print_summary()"
   ]
  },
  {
   "cell_type": "markdown",
   "id": "bd85adfd",
   "metadata": {},
   "source": [
    "We also provide the capability to visualize the results of each stage of the AutoMLx pipeline.\n",
    "\n",
    "<a id='algorithm-selection'></a>\n",
    "### Algorithm Selection\n",
    "\n",
    "The plot below shows the scores predicted by Algorithm Selection for each algorithm. The horizontal line shows the average score across all algorithms. Algorithms below the line are colored turquoise, whereas those with a score higher than the mean are colored teal. The selected algorithm is in orange."
   ]
  },
  {
   "cell_type": "code",
   "execution_count": 11,
   "id": "e72a8385",
   "metadata": {
    "execution": {
     "iopub.execute_input": "2024-09-11T15:31:41.210515Z",
     "iopub.status.busy": "2024-09-11T15:31:41.210196Z",
     "iopub.status.idle": "2024-09-11T15:31:41.439651Z",
     "shell.execute_reply": "2024-09-11T15:31:41.438976Z"
    }
   },
   "outputs": [
    {
     "data": {
      "image/png": "[encoded data removed]",
      "text/plain": [
       "<Figure size 1000x700 with 1 Axes>"
      ]
     },
     "metadata": {},
     "output_type": "display_data"
    }
   ],
   "source": [
    "\n",
    "\n",
    "def plot_model_selection_scores(_pipeline):\n",
    "    # Each trial is a row in a dataframe that contains\n",
    "    # Algorithm, Number of Samples, Number of Features, Hyperparameters, Score, Runtime, Memory Usage, Step as features\n",
    "    trials = _pipeline.completed_trials_summary_[\n",
    "        _pipeline.completed_trials_summary_[\"Step\"].str.contains(\"Model Selection\")\n",
    "    ]\n",
    "    name_of_score_column = f\"Score ({_pipeline._inferred_score_metric[0].name})\"\n",
    "    trials.replace([np.inf, -np.inf], np.nan, inplace=True)\n",
    "    trials.dropna(subset=[name_of_score_column], inplace=True)\n",
    "    scores = trials[name_of_score_column].tolist()\n",
    "    models = trials[\"Algorithm\"].tolist()\n",
    "    \n",
    "    y_margin = 0.10 * (max(scores) - min(scores))\n",
    "    s = pd.Series(scores, index=models).sort_values(ascending=False)\n",
    "    \n",
    "    colors = []\n",
    "    for f in s.keys():\n",
    "        if f.strip() == _pipeline.selected_model_.strip():\n",
    "            colors.append(\"orange\")\n",
    "        elif s[f] >= s.mean():\n",
    "            colors.append(\"teal\")\n",
    "        else:\n",
    "            colors.append(\"turquoise\")\n",
    "    \n",
    "    fig, ax = plt.subplots(1)\n",
    "    ax.set_title(\"Algorithm Selection Trials\")\n",
    "    ax.set_ylim(min(scores) - y_margin, max(scores) + y_margin)\n",
    "    ax.set_ylabel(\"Hit Rate\")\n",
    "    s.plot.bar(ax=ax, color=colors, edgecolor=\"black\")\n",
    "    ax.axhline(y=s.mean(), color=\"black\", linewidth=0.5)\n",
    "    plt.show()\n",
    "\n",
    "plot_model_selection_scores(automl_pipeline)"
   ]
  },
  {
   "cell_type": "markdown",
   "id": "5e218bbd",
   "metadata": {},
   "source": [
    "<a id='hyperparameter-tuning'></a>\n",
    "### Hyperparameter Tuning\n",
    "\n",
    "Hyperparameter Tuning is the last stage of the AutoMLx pipeline, and focuses on improving the chosen algorithm's score on the dataset. We use a novel iterative algorithm to search across many hyperparameter dimensions, and converge automatically when optimal hyperparameters are identified. Each trial represents a particular hyperparameter configuration for the selected model.\n"
   ]
  },
  {
   "cell_type": "code",
   "execution_count": 12,
   "id": "7efa75d8",
   "metadata": {
    "execution": {
     "iopub.execute_input": "2024-09-11T15:31:41.442045Z",
     "iopub.status.busy": "2024-09-11T15:31:41.441659Z",
     "iopub.status.idle": "2024-09-11T15:31:41.661218Z",
     "shell.execute_reply": "2024-09-11T15:31:41.660517Z"
    }
   },
   "outputs": [
    {
     "data": {
      "image/png": "[encoded data removed]",
      "text/plain": [
       "<Figure size 1000x700 with 1 Axes>"
      ]
     },
     "metadata": {},
     "output_type": "display_data"
    }
   ],
   "source": [
    "\n",
    "\n",
    "def plot_hp_tuning_scores(_pipeline):\n",
    "    # Each trial is a row in a dataframe that contains\n",
    "    # Algorithm, Number of Samples, Number of Features, Hyperparameters, Score, Runtime, Memory Usage, Step as features\n",
    "    trials = _pipeline.completed_trials_summary_[\n",
    "        _pipeline.completed_trials_summary_[\"Step\"].str.contains(\"Model Tuning\")\n",
    "    ]\n",
    "    name_of_score_column = f\"Score ({_pipeline._inferred_score_metric[0].name})\"\n",
    "    trials.replace([np.inf, -np.inf], np.nan, inplace=True)\n",
    "    trials.dropna(subset=[name_of_score_column], inplace=True)\n",
    "    trials.drop(trials[trials[\"Finished\"] == -1].index, inplace=True)\n",
    "    trials[\"Finished\"] = trials[\"Finished\"].apply(\n",
    "        lambda x: time.mktime(datetime.datetime.strptime(x, \"%a %b %d %H:%M:%S %Y\").timetuple())\n",
    "    )\n",
    "    trials.sort_values(by=[\"Finished\"], ascending=True, inplace=True)\n",
    "    scores = trials[name_of_score_column].tolist()\n",
    "    score = []\n",
    "    score.append(scores[0])\n",
    "    for i in range(1, len(scores)):\n",
    "        if scores[i] >= score[i - 1]:\n",
    "            score.append(scores[i])\n",
    "        else:\n",
    "            score.append(score[i - 1])\n",
    "    y_margin = 0.10 * (max(score) - min(score))\n",
    "    fig, ax = plt.subplots(1)\n",
    "    ax.set_title(\"Hyperparameter Tuning Trials\")\n",
    "    ax.set_xlabel(\"Iteration $n$\")\n",
    "    ax.set_ylabel(\"Hit Rate\")\n",
    "    ax.grid(color=\"g\", linestyle=\"-\", linewidth=0.1)\n",
    "    ax.set_ylim(min(score) - y_margin, max(score) + y_margin)\n",
    "    ax.plot(range(1, len(trials) + 1), score, \"k:\", marker=\"s\", color=\"teal\", markersize=3)\n",
    "    plt.show()\n",
    "\n",
    "plot_hp_tuning_scores(automl_pipeline)"
   ]
  },
  {
   "cell_type": "markdown",
   "id": "82c01574",
   "metadata": {},
   "source": [
    "<a id='modellist'></a>\n",
    "## Advanced AutoMLx Configuration\n",
    "\n",
    "You can also configure the AutoRecommender pipeline with suitable parameters according to your needs."
   ]
  },
  {
   "cell_type": "code",
   "execution_count": 13,
   "id": "89bf115e",
   "metadata": {
    "execution": {
     "iopub.execute_input": "2024-09-11T15:31:41.663689Z",
     "iopub.status.busy": "2024-09-11T15:31:41.663318Z",
     "iopub.status.idle": "2024-09-11T15:31:41.669564Z",
     "shell.execute_reply": "2024-09-11T15:31:41.668991Z"
    }
   },
   "outputs": [],
   "source": [
    "\n",
    "\n",
    "custom_pipeline = AutoRecommender().configure(\n",
    "    model_list=[  # Specify the models you want the AutoMLx to consider\n",
    "        \"ItemKNNRecommender\",\n",
    "        \"AlsRecommender\",\n",
    "        \"BprRecommender\",\n",
    "    ],\n",
    "    n_algos_tuned=2,  # Choose how many models to tune\n",
    "    search_space={  # You can specify the hyperparameters and ranges we search for each model\n",
    "        \"ItemKNNRecommender\": {\"num_of_neighbors\": {\"range\": [10, 30], \"type\": \"continuous\"}}\n",
    "    },\n",
    "    max_tuning_trials=20,  # The maximum number of tuning trials. Can be integer or Dict (max number for each model)\n",
    "    score_metric=\"recall\",  # Any of the metrics available, see the documentation for a list of supported values\n",
    ")"
   ]
  },
  {
   "cell_type": "markdown",
   "id": "d926ee4a",
   "metadata": {},
   "source": [
    "<a id='custom-validation'></a>\n",
    "## Use a custom validation set\n",
    "\n",
    "You can specify a custom validation set that you want AutoMLx to use to evaluate the quality of models and configurations."
   ]
  },
  {
   "cell_type": "code",
   "execution_count": 14,
   "id": "c5aef060",
   "metadata": {
    "execution": {
     "iopub.execute_input": "2024-09-11T15:31:41.671728Z",
     "iopub.status.busy": "2024-09-11T15:31:41.671387Z",
     "iopub.status.idle": "2024-09-11T15:31:41.848551Z",
     "shell.execute_reply": "2024-09-11T15:31:41.847876Z"
    }
   },
   "outputs": [],
   "source": [
    "\n",
    "\n",
    "training_data, validation_data = AutoRecommender.train_test_split(data=training_data, col_types=col_types)\n",
    "\n",
    "\n",
    "# We run again the AutoML pipeline with the custom training/validation split we just created, and some advanced settings that we can specify directly in the fit method."
   ]
  },
  {
   "cell_type": "code",
   "execution_count": 15,
   "id": "eaf9d445",
   "metadata": {
    "execution": {
     "iopub.execute_input": "2024-09-11T15:31:41.851125Z",
     "iopub.status.busy": "2024-09-11T15:31:41.850753Z",
     "iopub.status.idle": "2024-09-11T15:31:53.850619Z",
     "shell.execute_reply": "2024-09-11T15:31:53.849865Z"
    }
   },
   "outputs": [
    {
     "name": "stdout",
     "output_type": "stream",
     "text": [
      "[2024-09-11 08:31:42,012] [automlx.interface] Dataset shape: (49055,3)\n"
     ]
    },
    {
     "name": "stdout",
     "output_type": "stream",
     "text": [
      "[2024-09-11 08:31:42,080] [automlx.process] Running Model Generation\n"
     ]
    },
    {
     "name": "stdout",
     "output_type": "stream",
     "text": [
      "[2024-09-11 08:31:42,128] [automlx.process] Model Generation completed.\n"
     ]
    },
    {
     "name": "stdout",
     "output_type": "stream",
     "text": [
      "[2024-09-11 08:31:42,160] [automlx.model_selection] Running Model Selection\n"
     ]
    },
    {
     "name": "stdout",
     "output_type": "stream",
     "text": [
      "[2024-09-11 08:31:43,815] [automlx.model_selection] Model Selection completed - Took 1.654 sec - Selected models: [['ItemKNNRecommender', 'AlsRecommender']]\n"
     ]
    },
    {
     "name": "stdout",
     "output_type": "stream",
     "text": [
      "[2024-09-11 08:31:43,923] [automlx.trials] Running Model Tuning for ['ItemKNNRecommender']\n"
     ]
    },
    {
     "name": "stdout",
     "output_type": "stream",
     "text": [
      "[2024-09-11 08:31:47,504] [automlx.trials] Best parameters for ItemKNNRecommender: {'n_recommendations': 10, 'num_of_neighbors': 10, 'bias': 0.010099998000000002, 'hist_len': 10, 'reciprocal_ranking': False, 'normalize_scores': False, 'cache_users_states': True}\n"
     ]
    },
    {
     "name": "stdout",
     "output_type": "stream",
     "text": [
      "[2024-09-11 08:31:47,506] [automlx.trials] Model Tuning completed. Took: 3.583 secs\n"
     ]
    },
    {
     "name": "stdout",
     "output_type": "stream",
     "text": [
      "[2024-09-11 08:31:47,640] [automlx.trials] Running Model Tuning for ['AlsRecommender']\n"
     ]
    },
    {
     "name": "stdout",
     "output_type": "stream",
     "text": [
      "[2024-09-11 08:31:51,820] [automlx.trials] Best parameters for AlsRecommender: {'n_recommendations': 10, 'iterations': 10, 'factors': 16, 'regularization': 0.00044721247746457157, 'cache_users_states': True}\n"
     ]
    },
    {
     "name": "stdout",
     "output_type": "stream",
     "text": [
      "[2024-09-11 08:31:51,821] [automlx.trials] Model Tuning completed. Took: 4.181 secs\n"
     ]
    },
    {
     "name": "stdout",
     "output_type": "stream",
     "text": [
      "[2024-09-11 08:31:52,277] [automlx.interface] Re-fitting pipeline\n"
     ]
    },
    {
     "name": "stdout",
     "output_type": "stream",
     "text": [
      "[2024-09-11 08:31:52,287] [automlx.final_fit] Skipping updating parameter seed, already fixed by FinalFit_06ccaa75-4\n"
     ]
    },
    {
     "name": "stdout",
     "output_type": "stream",
     "text": [
      "[2024-09-11 08:31:53,683] [automlx.interface] AutoMLx completed.\n"
     ]
    }
   ],
   "source": [
    "\n",
    "\n",
    "custom_pipeline = custom_pipeline.fit(\n",
    "    training_data,\n",
    "    col_types,\n",
    "    validation_data,\n",
    "    time_budget=20,  # Specify time budget in seconds\n",
    ")"
   ]
  },
  {
   "cell_type": "markdown",
   "id": "6a30a757",
   "metadata": {},
   "source": [
    "Now that the custom AutoML pipeline is completed, we can generate recommendations.\n",
    "Note that the pipeline's `recommend` method is equivalent to `predict`."
   ]
  },
  {
   "cell_type": "code",
   "execution_count": 16,
   "id": "2f759ce2",
   "metadata": {
    "execution": {
     "iopub.execute_input": "2024-09-11T15:31:53.853632Z",
     "iopub.status.busy": "2024-09-11T15:31:53.853425Z",
     "iopub.status.idle": "2024-09-11T15:31:53.915432Z",
     "shell.execute_reply": "2024-09-11T15:31:53.914915Z"
    }
   },
   "outputs": [
    {
     "data": {
      "text/html": [
       "<div>\n",
       "<style scoped>\n",
       "    .dataframe tbody tr th:only-of-type {\n",
       "        vertical-align: middle;\n",
       "    }\n",
       "\n",
       "    .dataframe tbody tr th {\n",
       "        vertical-align: top;\n",
       "    }\n",
       "\n",
       "    .dataframe thead th {\n",
       "        text-align: right;\n",
       "    }\n",
       "</style>\n",
       "<table border=\"1\" class=\"dataframe\">\n",
       "  <thead>\n",
       "    <tr style=\"text-align: right;\">\n",
       "      <th></th>\n",
       "      <th>user_id</th>\n",
       "      <th>movie_id</th>\n",
       "      <th>score</th>\n",
       "    </tr>\n",
       "  </thead>\n",
       "  <tbody>\n",
       "    <tr>\n",
       "      <th>0</th>\n",
       "      <td>834</td>\n",
       "      <td>7</td>\n",
       "      <td>27.642145</td>\n",
       "    </tr>\n",
       "    <tr>\n",
       "      <th>1</th>\n",
       "      <td>834</td>\n",
       "      <td>121</td>\n",
       "      <td>26.133169</td>\n",
       "    </tr>\n",
       "    <tr>\n",
       "      <th>2</th>\n",
       "      <td>834</td>\n",
       "      <td>50</td>\n",
       "      <td>25.412533</td>\n",
       "    </tr>\n",
       "    <tr>\n",
       "      <th>3</th>\n",
       "      <td>834</td>\n",
       "      <td>405</td>\n",
       "      <td>24.929107</td>\n",
       "    </tr>\n",
       "    <tr>\n",
       "      <th>4</th>\n",
       "      <td>834</td>\n",
       "      <td>181</td>\n",
       "      <td>24.016132</td>\n",
       "    </tr>\n",
       "  </tbody>\n",
       "</table>\n",
       "</div>"
      ],
      "text/plain": [
       "   user_id  movie_id      score\n",
       "0      834         7  27.642145\n",
       "1      834       121  26.133169\n",
       "2      834        50  25.412533\n",
       "3      834       405  24.929107\n",
       "4      834       181  24.016132"
      ]
     },
     "execution_count": 16,
     "metadata": {},
     "output_type": "execute_result"
    }
   ],
   "source": [
    "\n",
    "\n",
    "custom_pipeline.recommend(subjects=recommendation_subjects, n_recommendations=5)"
   ]
  },
  {
   "cell_type": "markdown",
   "id": "b2a7e149",
   "metadata": {},
   "source": [
    "<a id='evaluation'></a>\n",
    "## Final evaluation of the best model\n",
    "\n",
    "Finally, we evaluate the best model found on the test data we have. If no metric is specified, the pipeline computes the score using the same metric used to run the Hyperparameter Tuning, which in this case is the Recall, as we defined at pipeline creation.\n",
    "\n",
    "In this example, instead, we ask the pipeline to perform the evaluation using Normalized Discounted Cumulative Gain (NDCG), a common ranking metric. Our online documentation provides the list of the available metrics and how they are computed."
   ]
  },
  {
   "cell_type": "code",
   "execution_count": 17,
   "id": "b814d5b5",
   "metadata": {
    "execution": {
     "iopub.execute_input": "2024-09-11T15:31:53.917805Z",
     "iopub.status.busy": "2024-09-11T15:31:53.917319Z",
     "iopub.status.idle": "2024-09-11T15:31:54.487619Z",
     "shell.execute_reply": "2024-09-11T15:31:54.486829Z"
    },
    "lines_to_next_cell": 2
   },
   "outputs": [
    {
     "data": {
      "application/vnd.jupyter.widget-view+json": {
       "model_id": "5b6e2c46e10c4b2d934826f7b6c2d301",
       "version_major": 2,
       "version_minor": 0
      },
      "text/plain": [
       "  0%|          | 0/939 [00:00<?, ?it/s]"
      ]
     },
     "metadata": {},
     "output_type": "display_data"
    },
    {
     "data": {
      "text/plain": [
       "0.0300"
      ]
     },
     "execution_count": 17,
     "metadata": {},
     "output_type": "execute_result"
    }
   ],
   "source": [
    "\n",
    "\n",
    "get_ipython().run_line_magic('precision', '4')\n",
    "custom_pipeline.score(data=test_data, score_metric=\"ndcg\")"
   ]
  }
 ],
 "metadata": {
  "jupytext": {
   "formats": "ipynb,py:percent"
  },
  "kernelspec": {
   "display_name": "Python 3 (ipykernel)",
   "language": "python",
   "name": "python3"
  },
  "language_info": {
   "codemirror_mode": {
    "name": "ipython",
    "version": 3
   },
   "file_extension": ".py",
   "mimetype": "text/x-python",
   "name": "python",
   "nbconvert_exporter": "python",
   "pygments_lexer": "ipython3",
   "version": "3.8.19"
  },
  "widgets": {
   "application/vnd.jupyter.widget-state+json": {
    "state": {
     "1f5eb06d455d4ec0bbba9f782a1d3eea": {
      "model_module": "@jupyter-widgets/controls",
      "model_module_version": "2.0.0",
      "model_name": "HTMLStyleModel",
      "state": {
       "_model_module": "@jupyter-widgets/controls",
       "_model_module_version": "2.0.0",
       "_model_name": "HTMLStyleModel",
       "_view_count": null,
       "_view_module": "@jupyter-widgets/base",
       "_view_module_version": "2.0.0",
       "_view_name": "StyleView",
       "background": null,
       "description_width": "",
       "font_size": null,
       "text_color": null
      }
     },
     "22c37e892a85494f8002bc701ae4b87e": {
      "model_module": "@jupyter-widgets/controls",
      "model_module_version": "2.0.0",
      "model_name": "HTMLStyleModel",
      "state": {
       "_model_module": "@jupyter-widgets/controls",
       "_model_module_version": "2.0.0",
       "_model_name": "HTMLStyleModel",
       "_view_count": null,
       "_view_module": "@jupyter-widgets/base",
       "_view_module_version": "2.0.0",
       "_view_name": "StyleView",
       "background": null,
       "description_width": "",
       "font_size": null,
       "text_color": null
      }
     },
     "2ded4cd12d2544fbb983612eabd211f9": {
      "model_module": "@jupyter-widgets/controls",
      "model_module_version": "2.0.0",
      "model_name": "HTMLModel",
      "state": {
       "_dom_classes": [],
       "_model_module": "@jupyter-widgets/controls",
       "_model_module_version": "2.0.0",
       "_model_name": "HTMLModel",
       "_view_count": null,
       "_view_module": "@jupyter-widgets/controls",
       "_view_module_version": "2.0.0",
       "_view_name": "HTMLView",
       "description": "",
       "description_allow_html": false,
       "layout": "IPY_MODEL_73eb5388a5c442f1bc9163fe9fbfaf18",
       "placeholder": "​",
       "style": "IPY_MODEL_22c37e892a85494f8002bc701ae4b87e",
       "tabbable": null,
       "tooltip": null,
       "value": " 939/939 [00:00&lt;00:00, 1900.24it/s]"
      }
     },
     "5b6e2c46e10c4b2d934826f7b6c2d301": {
      "model_module": "@jupyter-widgets/controls",
      "model_module_version": "2.0.0",
      "model_name": "HBoxModel",
      "state": {
       "_dom_classes": [],
       "_model_module": "@jupyter-widgets/controls",
       "_model_module_version": "2.0.0",
       "_model_name": "HBoxModel",
       "_view_count": null,
       "_view_module": "@jupyter-widgets/controls",
       "_view_module_version": "2.0.0",
       "_view_name": "HBoxView",
       "box_style": "",
       "children": [
        "IPY_MODEL_5f9a09a673424fd3abaf073a8f3b9e30",
        "IPY_MODEL_e6780940971c482ca31c47dea508055a",
        "IPY_MODEL_2ded4cd12d2544fbb983612eabd211f9"
       ],
       "layout": "IPY_MODEL_a7983cdae9634093a6060b845a2b6c14",
       "tabbable": null,
       "tooltip": null
      }
     },
     "5f9a09a673424fd3abaf073a8f3b9e30": {
      "model_module": "@jupyter-widgets/controls",
      "model_module_version": "2.0.0",
      "model_name": "HTMLModel",
      "state": {
       "_dom_classes": [],
       "_model_module": "@jupyter-widgets/controls",
       "_model_module_version": "2.0.0",
       "_model_name": "HTMLModel",
       "_view_count": null,
       "_view_module": "@jupyter-widgets/controls",
       "_view_module_version": "2.0.0",
       "_view_name": "HTMLView",
       "description": "",
       "description_allow_html": false,
       "layout": "IPY_MODEL_e8989e3e773249feac5fb5f8475da83c",
       "placeholder": "​",
       "style": "IPY_MODEL_1f5eb06d455d4ec0bbba9f782a1d3eea",
       "tabbable": null,
       "tooltip": null,
       "value": "100%"
      }
     },
     "73eb5388a5c442f1bc9163fe9fbfaf18": {
      "model_module": "@jupyter-widgets/base",
      "model_module_version": "2.0.0",
      "model_name": "LayoutModel",
      "state": {
       "_model_module": "@jupyter-widgets/base",
       "_model_module_version": "2.0.0",
       "_model_name": "LayoutModel",
       "_view_count": null,
       "_view_module": "@jupyter-widgets/base",
       "_view_module_version": "2.0.0",
       "_view_name": "LayoutView",
       "align_content": null,
       "align_items": null,
       "align_self": null,
       "border_bottom": null,
       "border_left": null,
       "border_right": null,
       "border_top": null,
       "bottom": null,
       "display": null,
       "flex": null,
       "flex_flow": null,
       "grid_area": null,
       "grid_auto_columns": null,
       "grid_auto_flow": null,
       "grid_auto_rows": null,
       "grid_column": null,
       "grid_gap": null,
       "grid_row": null,
       "grid_template_areas": null,
       "grid_template_columns": null,
       "grid_template_rows": null,
       "height": null,
       "justify_content": null,
       "justify_items": null,
       "left": null,
       "margin": null,
       "max_height": null,
       "max_width": null,
       "min_height": null,
       "min_width": null,
       "object_fit": null,
       "object_position": null,
       "order": null,
       "overflow": null,
       "padding": null,
       "right": null,
       "top": null,
       "visibility": null,
       "width": null
      }
     },
     "789580eb98e149f488b8dbc65f6f7da1": {
      "model_module": "@jupyter-widgets/controls",
      "model_module_version": "2.0.0",
      "model_name": "ProgressStyleModel",
      "state": {
       "_model_module": "@jupyter-widgets/controls",
       "_model_module_version": "2.0.0",
       "_model_name": "ProgressStyleModel",
       "_view_count": null,
       "_view_module": "@jupyter-widgets/base",
       "_view_module_version": "2.0.0",
       "_view_name": "StyleView",
       "bar_color": null,
       "description_width": ""
      }
     },
     "a7983cdae9634093a6060b845a2b6c14": {
      "model_module": "@jupyter-widgets/base",
      "model_module_version": "2.0.0",
      "model_name": "LayoutModel",
      "state": {
       "_model_module": "@jupyter-widgets/base",
       "_model_module_version": "2.0.0",
       "_model_name": "LayoutModel",
       "_view_count": null,
       "_view_module": "@jupyter-widgets/base",
       "_view_module_version": "2.0.0",
       "_view_name": "LayoutView",
       "align_content": null,
       "align_items": null,
       "align_self": null,
       "border_bottom": null,
       "border_left": null,
       "border_right": null,
       "border_top": null,
       "bottom": null,
       "display": null,
       "flex": null,
       "flex_flow": null,
       "grid_area": null,
       "grid_auto_columns": null,
       "grid_auto_flow": null,
       "grid_auto_rows": null,
       "grid_column": null,
       "grid_gap": null,
       "grid_row": null,
       "grid_template_areas": null,
       "grid_template_columns": null,
       "grid_template_rows": null,
       "height": null,
       "justify_content": null,
       "justify_items": null,
       "left": null,
       "margin": null,
       "max_height": null,
       "max_width": null,
       "min_height": null,
       "min_width": null,
       "object_fit": null,
       "object_position": null,
       "order": null,
       "overflow": null,
       "padding": null,
       "right": null,
       "top": null,
       "visibility": null,
       "width": null
      }
     },
     "bbb172d7c09543fcb01b261290582b3a": {
      "model_module": "@jupyter-widgets/base",
      "model_module_version": "2.0.0",
      "model_name": "LayoutModel",
      "state": {
       "_model_module": "@jupyter-widgets/base",
       "_model_module_version": "2.0.0",
       "_model_name": "LayoutModel",
       "_view_count": null,
       "_view_module": "@jupyter-widgets/base",
       "_view_module_version": "2.0.0",
       "_view_name": "LayoutView",
       "align_content": null,
       "align_items": null,
       "align_self": null,
       "border_bottom": null,
       "border_left": null,
       "border_right": null,
       "border_top": null,
       "bottom": null,
       "display": null,
       "flex": null,
       "flex_flow": null,
       "grid_area": null,
       "grid_auto_columns": null,
       "grid_auto_flow": null,
       "grid_auto_rows": null,
       "grid_column": null,
       "grid_gap": null,
       "grid_row": null,
       "grid_template_areas": null,
       "grid_template_columns": null,
       "grid_template_rows": null,
       "height": null,
       "justify_content": null,
       "justify_items": null,
       "left": null,
       "margin": null,
       "max_height": null,
       "max_width": null,
       "min_height": null,
       "min_width": null,
       "object_fit": null,
       "object_position": null,
       "order": null,
       "overflow": null,
       "padding": null,
       "right": null,
       "top": null,
       "visibility": null,
       "width": null
      }
     },
     "e6780940971c482ca31c47dea508055a": {
      "model_module": "@jupyter-widgets/controls",
      "model_module_version": "2.0.0",
      "model_name": "FloatProgressModel",
      "state": {
       "_dom_classes": [],
       "_model_module": "@jupyter-widgets/controls",
       "_model_module_version": "2.0.0",
       "_model_name": "FloatProgressModel",
       "_view_count": null,
       "_view_module": "@jupyter-widgets/controls",
       "_view_module_version": "2.0.0",
       "_view_name": "ProgressView",
       "bar_style": "success",
       "description": "",
       "description_allow_html": false,
       "layout": "IPY_MODEL_bbb172d7c09543fcb01b261290582b3a",
       "max": 939.0,
       "min": 0.0,
       "orientation": "horizontal",
       "style": "IPY_MODEL_789580eb98e149f488b8dbc65f6f7da1",
       "tabbable": null,
       "tooltip": null,
       "value": 939.0
      }
     },
     "e8989e3e773249feac5fb5f8475da83c": {
      "model_module": "@jupyter-widgets/base",
      "model_module_version": "2.0.0",
      "model_name": "LayoutModel",
      "state": {
       "_model_module": "@jupyter-widgets/base",
       "_model_module_version": "2.0.0",
       "_model_name": "LayoutModel",
       "_view_count": null,
       "_view_module": "@jupyter-widgets/base",
       "_view_module_version": "2.0.0",
       "_view_name": "LayoutView",
       "align_content": null,
       "align_items": null,
       "align_self": null,
       "border_bottom": null,
       "border_left": null,
       "border_right": null,
       "border_top": null,
       "bottom": null,
       "display": null,
       "flex": null,
       "flex_flow": null,
       "grid_area": null,
       "grid_auto_columns": null,
       "grid_auto_flow": null,
       "grid_auto_rows": null,
       "grid_column": null,
       "grid_gap": null,
       "grid_row": null,
       "grid_template_areas": null,
       "grid_template_columns": null,
       "grid_template_rows": null,
       "height": null,
       "justify_content": null,
       "justify_items": null,
       "left": null,
       "margin": null,
       "max_height": null,
       "max_width": null,
       "min_height": null,
       "min_width": null,
       "object_fit": null,
       "object_position": null,
       "order": null,
       "overflow": null,
       "padding": null,
       "right": null,
       "top": null,
       "visibility": null,
       "width": null
      }
     }
    },
    "version_major": 2,
    "version_minor": 0
   }
  }
 },
 "nbformat": 4,
 "nbformat_minor": 5
}
