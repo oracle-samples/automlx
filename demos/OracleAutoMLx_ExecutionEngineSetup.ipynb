{
 "cells": [
  {
   "cell_type": "markdown",
   "id": "93cb42a9",
   "metadata": {
    "lines_to_next_cell": 0
   },
   "source": [
    " ***\n",
    " # <font color=red>Using AutoMLx Execution engine</font>\n",
    " <p style=\"margin-left:10%; margin-right:10%;\">by the <font color=teal> Oracle AutoMLx Team </font></p>\n",
    "\n",
    " ***"
   ]
  },
  {
   "cell_type": "markdown",
   "id": "79b7e8be",
   "metadata": {
    "lines_to_next_cell": 0
   },
   "source": [
    " Execution Engine Setup Notebook.\n",
    "\n",
    " Copyright © 2024, Oracle and/or its affiliates.\n",
    "\n",
    " Licensed under the Universal Permissive License v 1.0 as shown at https://oss.oracle.com/licenses/upl/"
   ]
  },
  {
   "cell_type": "markdown",
   "id": "ce38d50b",
   "metadata": {},
   "source": [
    " ## Overview of this Notebook\n",
    "\n",
    " In this notebook we will showcase the different options provided by AutoMLx execution engine.\n",
    "\n",
    " ## Prerequisites\n",
    "\n",
    "   - Experience level: intermediate to advanced (Python and Machine Learning)\n",
    "   - Professional experience: Some industry experience"
   ]
  },
  {
   "cell_type": "markdown",
   "id": "420f2021",
   "metadata": {
    "lines_to_next_cell": 0
   },
   "source": [
    "## Table of Contents\n",
    "\n",
    "- <a href='#setup'> Engine configuration</a>\n",
    "    - <a href='#modules'> Imported modules</a>\n",
    "    - <a href='#default-setup'> Default engine setup</a>\n",
    "    - <a href='#custom-setup'> Custom setup for all engine types</a>\n",
    "- <a href='#ray'> Ray Engine</a>\n",
    "    - <a href='#ray-conf'> Configuring the Ray Engine</a>\n",
    "    - <a href='#mult-ray'> Multi-node Ray cluster</a>\n",
    "        - <a href='#utils-ray'> Creating a Ray cluster through AutoMLX's utils</a>\n",
    "        - <a href='#manual-ray'> Creating a Ray cluster manually</a>\n",
    "        - <a href='#auto-ray'> Creating a Ray cluster through the launcher</a>\n",
    "        - <a href='#TLS-ray'> Manual TLS authentication setup</a>\n",
    "        - <a href='#automlx-ray'> Connecting AutoMLx backend to an existing Ray cluster </a>\n",
    "        - <a href='#stopping-ray'> Stopping the Ray cluster </a>\n",
    "- <a href='#multiproc'> Multiprocessing Engine</a>\n",
    "- <a href='#threading'> Multithreading Engine</a>\n",
    "- <a href='#differences'> Differences between engines </a>\n",
    "- <a href='#refs'> References </a>"
   ]
  },
  {
   "cell_type": "markdown",
   "id": "ae1419da",
   "metadata": {
    "lines_to_next_cell": 0
   },
   "source": [
    " <a id='setup'></a>\n",
    "# Engine configuration\n",
    "The AutoMLx package is compatible with multiple distributed execution engines. This section will showcase how to start an AutoMLx engine instance with default and custom configurations.\n"
   ]
  },
  {
   "cell_type": "markdown",
   "id": "e6e6aabc",
   "metadata": {
    "lines_to_next_cell": 0
   },
   "source": [
    "<a id='modules'></a>\n",
    "## Imported modules\n",
    "Note that all of the engine operations imports here are fully optional, as the engine will be initialized and shutdown with default settings if these methods are not used."
   ]
  },
  {
   "cell_type": "code",
   "execution_count": null,
   "id": "902d0b6a",
   "metadata": {},
   "outputs": [],
   "source": [
    "# To run some example classification task with AutoMLx\n",
    "from tempfile import TemporaryDirectory\n",
    "from pathlib import Path\n",
    "\n",
    "from sklearn.datasets import fetch_openml\n",
    "from sklearn.model_selection import train_test_split\n",
    "\n",
    "# Code for engine operations\n",
    "from automlx import Pipeline, init, shutdown\n",
    "from automlx._backend.utils import (\n",
    "    TLSConfig,\n",
    "    initialize_ray_head_node,\n",
    "    initialize_ray_worker_node,\n",
    "    stop_ray_cluster,\n",
    ")"
   ]
  },
  {
   "cell_type": "markdown",
   "id": "985b2386",
   "metadata": {},
   "source": [
    " <a id='default-setup'></a>\n",
    "## Default engine setup\n",
    "The AutoMLx package offers the function `init` to initialize the parallelization engine.\n",
    "This method can be used to manually setup the engine options.\n",
    "However, if not used, AutoMLx will automatically setup the engine with default options as soon as it is needed.\n",
    "At the end of an AutoMLx Pipeline, `shutdown` can be called to reset the parallelization engine. If not manually called, the Engine will stay alive until the python executable finishes, or a SIGKILL is sent (this happens when the program is forcefully terminated).\n",
    "This means it is generally not needed to manually call `shutdown`.\n",
    "\n",
    "[Ray](https://docs.ray.io/en/latest/index.html) is the default execution backend for AutoMLx, It provides the compute layer for parallel processing.\n",
    "It is an open source project that makes it simple to scale any compute-intensive Python workload.\n",
    "\n",
    "In case of the Ray engine, AutoMLx offers both multi-node and single-node (local cluster) options.\n",
    "With \"local cluster\" we mean a cluster of worker threads within the same compute node that asynchronously use the available CPU cores.\n",
    "On the other hand, by \"multi-node\" we mean a cluster of worker threads belonging to multiple separate nodes that can interact with a single head node via Ray to schedule tasks.\n",
    "By default, AutoMLx starts a local cluster Ray Engine that has access to all the CPUs and GPUs available in the current machine.\n"
   ]
  },
  {
   "cell_type": "code",
   "execution_count": null,
   "id": "c32cc567",
   "metadata": {
    "lines_to_next_cell": 0
   },
   "outputs": [],
   "source": [
    "# Example classification pipeline\n",
    "dataset = fetch_openml(name=\"adult\", version=1, as_frame=True)\n",
    "df, y = dataset.data, dataset.target\n",
    "\n",
    "# Several of the columns are incorrectly labeled as category type in the original dataset\n",
    "numeric_columns = [\"age\", \"capitalgain\", \"capitalloss\", \"hoursperweek\"]\n",
    "for col in df.columns:\n",
    "    if col in numeric_columns:\n",
    "        df[col] = df[col].astype(int)\n",
    "\n",
    "\n",
    "X_train, X_test, y_train, y_test = train_test_split(\n",
    "    df, y.map({\">50K\": 1, \"<=50K\": 0}).astype(int), train_size=0.7, random_state=0\n",
    ")\n",
    "\n",
    "est1 = Pipeline(task=\"classification\")\n",
    "est1.fit(X_train, y_train)\n",
    "\n",
    "shutdown()"
   ]
  },
  {
   "cell_type": "markdown",
   "id": "31168c31",
   "metadata": {},
   "source": [
    " <a id='custom-setup'></a>\n",
    "## Custom setup for all engine types\n",
    "The `engine` parameter of `init` can accept three values (`ray` which is the default, `local` for multiprocessing, and `threading`) to match the three execution engines offered by AutoMLx.\n",
    "\n",
    "The `init` function can also customize the resources used by the individual trials through the following parameters:\n",
    "- `n_jobs` : Specifies the number of parallel Jobs that AutoMLx can run concurrently\n",
    "- `model_n_jobs` : Specifies the number of cores used by every Job to train a model\n",
    "\n",
    "For example, if you have a node where you want to preserve half the CPU cores for some orthogonal tasks (e.g., https server),\n",
    "you may limit AutoMLx to a certain number of nodes: if we have 10 virtual CPUs (Intel Hyper-threading or AMD SMT enabled) but want to run at most 5 Jobs using 1 core each, we can set `n_jobs` to 5 and `model_n_jobs` to 1."
   ]
  },
  {
   "cell_type": "code",
   "execution_count": null,
   "id": "dcb8d479",
   "metadata": {
    "lines_to_next_cell": 0
   },
   "outputs": [],
   "source": [
    "init(engine_opts={\"n_jobs\": 5, \"model_n_jobs\": 1})"
   ]
  },
  {
   "cell_type": "markdown",
   "id": "9835d701",
   "metadata": {},
   "source": [
    " <a id='ray'></a>\n",
    " # Ray Engine\n",
    "This section explains how to use AutoMLx to start a local cluster and how to start a multi-node ray cluster and connect AutoMLx Engine to it."
   ]
  },
  {
   "cell_type": "markdown",
   "id": "16409de2",
   "metadata": {
    "lines_to_next_cell": 0
   },
   "source": [
    " <a id='ray-conf'></a>\n",
    " ## Configuring the Ray Engine\n",
    "The cluster configuration can be customized through the `ray_setup` parameter.\n",
    "`ray_setup` is a dictionary that specifies all the options to be passed to [`ray.init`](https://docs.ray.io/en/latest/ray-core/api/doc/ray.init.html).\n",
    "For instance, it can be used to disable the dashboard, a useful web application showing a bird's eye view of what is happening in each worker.\n",
    "The dashboard is active by default, but since it requires resources and occupies an additional port, in some cases the user might want to disable it.\n",
    "In this example, we start a local Ray cluster limited to one CPU of the current machine, and with the dashboard disabled.\n",
    "Note that Ray does not constrain execution to happen in the specified resources, but uses resource specification only for scheduling. For instance, specifying\n",
    "5 CPUs to be used will not guarantee that only 5 CPUs are used; instead, it guarantees that Ray will limit the number of concurrent tasks to ensure that the sum of CPUs specified for all tasks does not exceed 5."
   ]
  },
  {
   "cell_type": "code",
   "execution_count": null,
   "id": "3a600858",
   "metadata": {
    "lines_to_next_cell": 0
   },
   "outputs": [],
   "source": [
    "init(engine_opts={\"ray_setup\": {\"num_cpus\": 1, \"include_dashboard\": False}})"
   ]
  },
  {
   "cell_type": "markdown",
   "id": "7887e2d4",
   "metadata": {},
   "source": [
    " <a id='mult-ray'></a>\n",
    " ## Multi-node Ray cluster\n",
    "This section will show how to start a custom multi-node ray cluster and configure it properly.\n",
    "\n",
    "Generally, a multi-node cluster will prove useful when there's the need for more parallelization than what a single machine can provide.\n",
    "Moreover, several AutoMLx instances running on different machines will be able to connect to the same multi-node cluster and participate in the same\n",
    "scheduling of resources.\n",
    "\n",
    "A multi-node Ray cluster can be started in different modalities, but we recommend using AutoMLx's utils to do so,\n",
    "as they wrap the Ray commands in a straightforward and intuitive manner, especially for what concerns setting up TLS.\n",
    "Ray needs a `head` node to which the several `worker` nodes can be connected.\n",
    "The head node needs to be setup first, and needs to be reachable from all of the worker nodes and viceversa.\n",
    "Moreover, Ray will open up several ports, some of which are customizable, while others are always chosen at random between the open ones. All the used ports\n",
    "need to be open. The default ports can be found [here](https://docs.ray.io/en/latest/ray-core/configure.html#ports-configurations).\n",
    "After setting up the cluster, AutoMLx can connect to it through the `init` method from whichever node belongs to it (either head or workers).\n",
    "\n",
    "<img src=\"data:image/png;base64,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\" alt=\"Multi-node Ray cluster\" />\n",
    "\n",
    " <a id='utils-ray'></a>\n",
    " ### Creating a Ray cluster through utils provided by AutoMLx\n",
    "AutoMLx provides utils that wrap the Ray cluster setup. In particular, it allows for the initialization of the `head` node and `worker` nodes.\n",
    "To begin, from a shell in the head node, run the following command to set up the Ray Engine with default settings and ports. Refer to documentation of the method to explore customization options."
   ]
  },
  {
   "cell_type": "code",
   "execution_count": null,
   "id": "c96b1786",
   "metadata": {},
   "outputs": [],
   "source": [
    "temp_directory = TemporaryDirectory(dir=str(Path.cwd())).name\n",
    "head_ip = initialize_ray_head_node(temp_dir=temp_directory)"
   ]
  },
  {
   "cell_type": "markdown",
   "id": "012f9b1d",
   "metadata": {},
   "source": [
    "The following action will be to run this method on each of the worker nodes:"
   ]
  },
  {
   "cell_type": "code",
   "execution_count": null,
   "id": "b80fbdf2",
   "metadata": {},
   "outputs": [],
   "source": [
    "initialize_ray_worker_node(head_address=head_ip, temp_dir=temp_directory)"
   ]
  },
  {
   "cell_type": "markdown",
   "id": "f0312314",
   "metadata": {},
   "source": [
    "This will initialize the worker node by connecting to the IP address and default port (6379, can be changed) to the head node.\n",
    "\n",
    "Ray also offers the capability to setup a TLS connection between its `gRPC` channels (https://docs.ray.io/en/latest/ray-core/configure.html#tls-authentication).\n",
    "gRPC is a Remote Procedure Call protocol used by Ray to allow the workers to communicate, and TLS (Transport Layer Security) will allow the exchanged messages to be encrypted to avoid malicious agents to eavesdrop on the communications.\n",
    "Establishing end-to-end security of data is optional but may offer secure communication in-between cluster nodes, often at an insignificant overhead to running time. We provide utilities to quickly create a TLSConfig as follows:"
   ]
  },
  {
   "cell_type": "code",
   "execution_count": null,
   "id": "bf4505bb",
   "metadata": {},
   "outputs": [],
   "source": [
    "node_certificate_location = \"placeholder.crt\"\n",
    "node_private_key_location = \"placeholder.key\"\n",
    "certification_authority_certificate_location = \"placeholder.crt\"\n",
    "tls_conf = TLSConfig(\n",
    "    node_certificate_location,\n",
    "    node_private_key_location,\n",
    "    certification_authority_certificate_location,\n",
    ")"
   ]
  },
  {
   "cell_type": "markdown",
   "id": "334924d0",
   "metadata": {},
   "source": [
    "TLSConfig or TLS connection requires several certificates and key files. The certificate issued by the certification authority will need to be in each of the nodes.\n",
    "Ray offers some [scripts that can be used as reference for generating these files](https://raw.githubusercontent.com/ray-project/ray/master/doc/source/cluster/kubernetes/configs/static-ray-cluster.tls.yaml).\n",
    "You can refer to the `gencert_head` and `gencert_worker` shell scripts. These are designed for Linux systems.\n",
    "Note that creating keys and certificates will usually require sudo rights.\n",
    "To finish your TLS Cluster setup, you need to run the previous methods with the TLSConfig as a parameter.\n",
    "In the head node:"
   ]
  },
  {
   "cell_type": "code",
   "execution_count": null,
   "id": "923de00a",
   "metadata": {},
   "outputs": [],
   "source": [
    "head_ip = initialize_ray_head_node(tls_config=tls_conf, temp_dir=temp_directory)"
   ]
  },
  {
   "cell_type": "markdown",
   "id": "222be822",
   "metadata": {},
   "source": [
    "In the worker nodes:"
   ]
  },
  {
   "cell_type": "code",
   "execution_count": null,
   "id": "c7ac10d1",
   "metadata": {},
   "outputs": [],
   "source": [
    "initialize_ray_worker_node(head_address=head_ip, tls_config=tls_conf, temp_dir=temp_directory)"
   ]
  },
  {
   "cell_type": "markdown",
   "id": "7e56aefb",
   "metadata": {
    "lines_to_next_cell": 0
   },
   "source": [
    " <a id='manual-ray'></a>\n",
    " ### Creating a Ray cluster manually\n",
    "A Ray cluster can be also started through Command Line Interface using the following commands:\n",
    "- `ray start --head --port=<HEAD_PORT>` : This command has to be run on the head node\n",
    "- `ray start --address=<head-node-address:HEAD_PORT>` : This command has to be run on the worker nodes\n",
    "\n",
    "The ray cluster can be later shutdown by running  `ray stop` on every node.\n",
    "\n",
    "More information on how to setup a cluster manually can be found [here](https://docs.ray.io/en/latest/cluster/vms/user-guides/launching-clusters/on-premises.html#manually-set-up-a-ray-cluster)\n"
   ]
  },
  {
   "cell_type": "markdown",
   "id": "c0d5b8f8",
   "metadata": {
    "lines_to_next_cell": 0
   },
   "source": [
    " <a id='auto-ray'></a>\n",
    " ### Creating a Ray cluster manually through the launcher\n",
    "A Ray cluster can also be created in an Automated way from any machine using a YAML config file.\n",
    "\n",
    "`ray attach <YAML_FILE_PATH>` can be used to start the cluster and setup the head node and its workers.\n",
    "\n",
    "The cluster can then be torn down using `ray down <YAML_FILE_PATH>`.\n",
    "\n",
    "An example config file can be found [here](https://github.com/ray-project/ray/tree/eacc763c84d47c9c5b86b26a32fd62c685be84e6/python/ray/autoscaler/local/example-full.yaml).\n",
    "\n",
    "A more detailed explanation on the cluster setup can also be found in the [official ray documentation website](https://docs.ray.io/en/latest/cluster/vms/user-guides/launching-clusters/on-premises.html#start-ray-with-the-ray-cluster-launcher)\n"
   ]
  },
  {
   "cell_type": "markdown",
   "id": "b9fc01cc",
   "metadata": {
    "lines_to_next_cell": 0
   },
   "source": [
    " <a id='tls-ray'></a>\n",
    " ### Manual TLS authentication setup\n",
    "Instead of using AutoMLx's utils for TLS setup, you can also set it up manually.\n",
    "TLS authentication can only be used before the Ray cluster is started by specifying the following environmental variables:\n",
    "- `RAY_USE_TLS`: Either 1 or 0 to use/not-use TLS. If this is set to 1 then all of the environment variables below must be set. Default: 0.\n",
    "- `RAY_TLS_SERVER_CERT`: Location of a certificate file (tls.crt), which is presented to other endpoints to achieve mutual authentication.\n",
    "- `RAY_TLS_SERVER_KEY`: Location of a private key file (tls.key) for the current node, which is the cryptographic means to prove to other endpoints that you are the authorized user of a given certificate.\n",
    "- `RAY_TLS_CA_CERT`: Location of a CA certificate file (ca.crt) present in all nodes, which allows TLS to decide whether an endpoint’s certificate has been signed by the correct authority.\n",
    "\n",
    "More information can be found [here](https://docs.ray.io/en/latest/ray-core/configure.html#tls-authentication)"
   ]
  },
  {
   "cell_type": "markdown",
   "id": "936d7077",
   "metadata": {},
   "source": [
    " <a id='automlx-ray'></a>\n",
    "\n",
    "### Connecting AutoMLx backend to an existing Ray cluster\n",
    "\n",
    "Finally, regardless of how the cluster was created, you will be able to connect to it by initializing the engine with the `cluster_mode` option set to True:"
   ]
  },
  {
   "cell_type": "code",
   "execution_count": null,
   "id": "d027c7b0",
   "metadata": {
    "lines_to_next_cell": 0
   },
   "outputs": [],
   "source": [
    "init(engine_opts={\"cluster_mode\": True, \"ray_setup\": {\"_temp_dir\": temp_directory}})"
   ]
  },
  {
   "cell_type": "markdown",
   "id": "72ecc3f1",
   "metadata": {
    "lines_to_next_cell": 0
   },
   "source": [
    "Ray will autodetect the running cluster and connect to it.\n",
    "Note that this can be done from any of the nodes in the cluster (not necessarily the head node) as all of the nodes will be able to schedule tasks\n",
    "across all of the available cluster resources."
   ]
  },
  {
   "cell_type": "markdown",
   "id": "0ce6823a",
   "metadata": {
    "lines_to_next_cell": 0
   },
   "source": [
    " <a id='stopping-ray'></a>\n",
    "\n",
    "### Stopping the Ray cluster"
   ]
  },
  {
   "cell_type": "markdown",
   "id": "cecca488",
   "metadata": {
    "lines_to_next_cell": 0
   },
   "source": [
    "In the case of the Ray engine, the local Ray instance will be automatically stopped at the end of the Python execution.\n",
    "However, in the case of multi-node execution, all of the nodes will need to stop the cluster in order to successfully clear it (see <a href='#stopping-ray'> Stopping the Ray cluster </a>).\n",
    "To do so, you can run this method on each of the nodes:"
   ]
  },
  {
   "cell_type": "code",
   "execution_count": null,
   "id": "7aaf74cd",
   "metadata": {
    "lines_to_next_cell": 0
   },
   "outputs": [],
   "source": [
    "stop_ray_cluster()"
   ]
  },
  {
   "cell_type": "markdown",
   "id": "3014fc89",
   "metadata": {
    "lines_to_next_cell": 0
   },
   "source": [
    "Or `ray stop --force` from your terminal, again on each of the nodes."
   ]
  },
  {
   "cell_type": "markdown",
   "id": "2eda675f",
   "metadata": {},
   "source": [
    " <a id='multiproc'></a>\n",
    "## Multiprocessing Engine\n",
    "To use AutoMlx with Python Multiprocessing, we need to pass the `engine=\"local\"` parameter to the `init` function."
   ]
  },
  {
   "cell_type": "code",
   "execution_count": null,
   "id": "b23cbc38",
   "metadata": {
    "lines_to_next_cell": 0
   },
   "outputs": [],
   "source": [
    "init(engine=\"local\")"
   ]
  },
  {
   "cell_type": "markdown",
   "id": "caf9fb0a",
   "metadata": {},
   "source": [
    " <a id='threading'></a>\n",
    "## Threading Engine\n",
    "To use AutoMLx with Python threading, we need to pass the `engine=\"threading\"` parameter to the `init` function."
   ]
  },
  {
   "cell_type": "code",
   "execution_count": null,
   "id": "f4ed8577",
   "metadata": {
    "lines_to_next_cell": 0
   },
   "outputs": [],
   "source": [
    "init(engine=\"threading\")"
   ]
  },
  {
   "cell_type": "markdown",
   "id": "4a995d7a",
   "metadata": {
    "lines_to_next_cell": 0
   },
   "source": [
    "<a id='differences'></a>\n",
    "## Differences between Execution Engines\n",
    "Be aware that engines other than Ray cannot achieve multi-node execution and are generally slower than the Ray one.\n",
    "On average, Ray will be faster than Multiprocessing, which is in turn faster than threading.\n",
    "Note that the multi-threading engine is confined by the Global Interpreter Lock (GIL) of the Python language, and hence cannot use more than two threads (i.e. one CPU) for its compute. This backend however might be suitable for prediction service deployments in production containers\n",
    "as it does not require file writes to disk (such as those needed by Ray and multiprocessing to escape the GIL).\n",
    "Using the multiprocessing and threading engines might be suitable for single-node executions with low levels of parallelization (that is, a few concurrent tasks).\n",
    "Moreover, Ray is the only engine that supports distributed training.\n",
    "Thus, Ray is generally the recommended engine for AutoMLx."
   ]
  },
  {
   "cell_type": "markdown",
   "id": "b883b35a",
   "metadata": {},
   "source": [
    "<a id='ref'></a>\n",
    "## References\n",
    "* Oracle AutoML: http://www.vldb.org/pvldb/vol13/p3166-yakovlev.pdf\n",
    "* Ray configuration page: https://docs.ray.io/en/latest/ray-core/configure.html"
   ]
  }
 ],
 "metadata": {
  "jupytext": {
   "formats": "ipynb,md,py:percent"
  },
  "kernelspec": {
   "display_name": "Python 3 (ipykernel)",
   "language": "python",
   "name": "python3"
  }
 },
 "nbformat": 4,
 "nbformat_minor": 5
}
